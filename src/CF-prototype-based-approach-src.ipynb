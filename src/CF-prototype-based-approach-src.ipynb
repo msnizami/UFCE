{
 "cells": [
  {
   "cell_type": "code",
   "execution_count": null,
   "metadata": {},
   "outputs": [],
   "source": [
    "#!/usr/bin/env python\n",
    "# coding: utf-8"
   ]
  },
  {
   "cell_type": "markdown",
   "metadata": {},
   "source": [
    "#### Import libraries"
   ]
  },
  {
   "cell_type": "code",
   "execution_count": 8,
   "metadata": {},
   "outputs": [],
   "source": [
    "import time\n",
    "import gower\n",
    "import random\n",
    "import pandas as pd\n",
    "import numpy as np\n",
    "from goodness import *\n",
    "import seaborn as sns\n",
    "from numpy import meshgrid\n",
    "from numpy import arange\n",
    "from numpy import hstack\n",
    "from scipy import stats\n",
    "#get_ipython().run_line_magic('matplotlib', 'inline')\n",
    "import matplotlib.pyplot as plt\n",
    "from scipy.spatial import KDTree\n",
    "from sklearn.metrics import r2_score\n",
    "from sklearn.metrics import balanced_accuracy_score\n",
    "from scipy.spatial.distance import cdist, pdist\n",
    "from scipy.spatial.distance import _validate_vector\n",
    "from scipy.stats import median_absolute_deviation\n",
    "from sklearn.neighbors import LocalOutlierFactor\n",
    "from pandas.errors import EmptyDataError\n",
    "from sklearn.neighbors import LocalOutlierFactor\n",
    "from sklearn.metrics import accuracy_score\n",
    "from sklearn.datasets import make_blobs\n",
    "plt.style.use(\"seaborn-whitegrid\")\n",
    "pd.set_option('display.max_columns', None)  # or 1000\n",
    "pd.set_option('display.max_rows', None)  # or 1000\n",
    "from sklearn.metrics import balanced_accuracy_score\n",
    "from sklearn.metrics import mutual_info_score\n",
    "from sklearn.linear_model import LogisticRegression\n",
    "from sklearn.linear_model import LinearRegression\n",
    "from sklearn.neural_network import MLPClassifier\n",
    "from sklearn.model_selection import train_test_split\n",
    "from sklearn.feature_selection import mutual_info_classif\n",
    "from sklearn.feature_selection import mutual_info_regression\n",
    "from sklearn.feature_selection import mutual_info_classif"
   ]
  },
  {
   "cell_type": "markdown",
   "metadata": {},
   "source": [
    "#### Read data"
   ]
  },
  {
   "cell_type": "code",
   "execution_count": 2,
   "metadata": {},
   "outputs": [],
   "source": [
    "# set the path as per your directory system, and download the dataset file from the data/repository\n",
    "path = r'C:\\Users\\laboratorio\\Documents\\Suffian PhD Work\\codes\\datasets\\Bank_Loan.csv'\n",
    "bankloan = pd.read_csv(path)\n",
    "del bankloan['Unnamed: 0']\n",
    "del bankloan['age']\n",
    "del bankloan['Experience']"
   ]
  },
  {
   "cell_type": "markdown",
   "metadata": {},
   "source": [
    "#### Collecting Label-1 data points"
   ]
  },
  {
   "cell_type": "code",
   "execution_count": 3,
   "metadata": {},
   "outputs": [
    {
     "data": {
      "text/plain": [
       "(3116, 4520)"
      ]
     },
     "execution_count": 3,
     "metadata": {},
     "output_type": "execute_result"
    }
   ],
   "source": [
    "data_lab1 = pd.DataFrame()\n",
    "data_lab1 = bankloan[bankloan[\"Personal Loan\"] == 1]\n",
    "data_lab0 = bankloan[bankloan[\"Personal Loan\"] == 0]\n",
    "data_lab1 = data_lab1.drop(['Personal Loan'], axis=1)\n",
    "len(data_lab1), len(data_lab0)"
   ]
  },
  {
   "cell_type": "markdown",
   "metadata": {},
   "source": [
    "#### importing ufce functionality"
   ]
  },
  {
   "cell_type": "code",
   "execution_count": 4,
   "metadata": {},
   "outputs": [],
   "source": [
    "import ufce\n",
    "from goodness import *\n",
    "from ufce import UFCE\n",
    "ufc = UFCE()"
   ]
  },
  {
   "cell_type": "markdown",
   "metadata": {},
   "source": [
    "#### Mutual Information"
   ]
  },
  {
   "cell_type": "code",
   "execution_count": 5,
   "metadata": {},
   "outputs": [
    {
     "name": "stderr",
     "output_type": "stream",
     "text": [
      "C:\\Users\\laboratorio\\Anaconda3\\lib\\site-packages\\sklearn\\utils\\validation.py:63: DataConversionWarning: A column-vector y was passed when a 1d array was expected. Please change the shape of y to (n_samples, ), for example using ravel().\n",
      "  return f(*args, **kwargs)\n"
     ]
    },
    {
     "data": {
      "text/plain": [
       "[['CCAvg', 'Income'],\n",
       " ['CDAccount', 'CCAvg'],\n",
       " ['CDAccount', 'Income'],\n",
       " ['Mortgage', 'CCAvg'],\n",
       " ['CDAccount', 'Mortgage']]"
      ]
     },
     "execution_count": 5,
     "metadata": {},
     "output_type": "execute_result"
    }
   ],
   "source": [
    "Y = bankloan.loc[ : , bankloan.columns == 'Personal Loan'] \n",
    "X = bankloan.loc[ : , bankloan.columns != 'Personal Loan']\n",
    "for colname in X.select_dtypes(\"object\"):\n",
    "    X[colname], _ = X[colname].factorize()\n",
    "discrete_features = X.dtypes == int\n",
    "\n",
    "mi_scores = ufc.make_mi_scores(X, Y, discrete_features)\n",
    "mi_scores  # show a few features with their MI scores\n",
    "\n",
    "#get top mutual information sharing pair of feature\n",
    "features = ['Income', 'Family', 'CCAvg', 'Education', 'Mortgage',\n",
    "       'SecuritiesAccount', 'CDAccount', 'Online', 'CreditCard']\n",
    "cat_f = ['SecuritiesAccount', 'CDAccount', 'Online', 'CreditCard']\n",
    "F = ufc.get_top_MI_features(X, features)\n",
    "F[:5]"
   ]
  },
  {
   "cell_type": "markdown",
   "metadata": {},
   "source": [
    "#### Train-test splits with a random state that provides the best distribution fit of data"
   ]
  },
  {
   "cell_type": "code",
   "execution_count": 6,
   "metadata": {},
   "outputs": [],
   "source": [
    "from scipy import stats\n",
    "from sklearn.model_selection import train_test_split\n",
    "n_features = X.shape[1]\n",
    "n_tries = 5\n",
    "result = []\n",
    "for random_state in range(n_tries):\n",
    "    X_train, X_test, y_train, y_test = train_test_split(X, Y, test_size=0.3, stratify=Y, random_state=random_state)\n",
    "    distances = list(map(lambda i : stats.ks_2samp(X_train.iloc[:,i],X_test.iloc[:,i]).statistic,range(n_features)))\n",
    "    result.append((random_state,max(distances)))\n",
    "result.sort(key = lambda x : x[1])\n",
    "\n",
    "# from result, random state is important to train the model on the best split\n",
    "idx = 0\n",
    "random_state = result[idx][0]  \n",
    "X_train, X_test, y_train, y_test = train_test_split(X, Y, test_size=0.3, random_state=random_state)\n",
    "X_test.to_csv(path + 'X_test' + '.csv', index=False)\n",
    "X_train.to_csv(path + 'X_train' + '.csv', index=False)"
   ]
  },
  {
   "cell_type": "code",
   "execution_count": 9,
   "metadata": {},
   "outputs": [
    {
     "name": "stdout",
     "output_type": "stream",
     "text": [
      "LR R2 score 0.853268119858659\n",
      "LR accuracy 0.9642077695329551\n"
     ]
    }
   ],
   "source": [
    "# Training ML models\n",
    "lr = LogisticRegression(max_iter=1000)\n",
    "model = MLPClassifier(max_iter=1000)\n",
    "model.fit(X_train,y_train.values.ravel())\n",
    "lr.fit(X_train,y_train.values.ravel())\n",
    "print(\"LR R2 score\",r2_score(y_test.values.ravel(),lr.predict(X_test)))\n",
    "print(\"LR accuracy\",accuracy_score(y_test.values.ravel(), lr.predict(X_test)))"
   ]
  },
  {
   "cell_type": "code",
   "execution_count": null,
   "metadata": {},
   "outputs": [],
   "source": [
    "# 10-fold cross validation<br>\n",
    "from sklearn.model_selection import cross_val_score<br>\n",
    "lr = LogisticRegression(max_iter=1000)<br>\n",
    "lr.fit(X_train, y_train)<br>\n",
    "scores = cross_val_score(lr, X=X_train, y=y_train, cv=10, n_jobs=1)<br>\n",
    "print('Cross Validation accuracy scores: %s' % scores)<br>\n",
    "print('Cross Validation accuracy: %.3f +/- %.3f' % (np.mean(scores),np.std(scores)))\n",
    "mlp = MLPClassifier(max_iter=1000)<br>\n",
    "mlp.fit(X_train, y_train)<br>\n",
    "scores = cross_val_score(mlp, X=X_train, y=y_train, cv=10, n_jobs=1)<br>\n",
    "print('Cross Validation accuracy scores: %s' % scores)<br>\n",
    "print('Cross Validation accuracy: %.3f +/- %.3f' % (np.mean(scores),np.std(scores)))"
   ]
  },
  {
   "cell_type": "markdown",
   "metadata": {},
   "source": [
    "#### user feedback constraints"
   ]
  },
  {
   "cell_type": "code",
   "execution_count": 10,
   "metadata": {},
   "outputs": [],
   "source": [
    "uf = {'Income':70, 'CCAvg':3.0, 'Family': 3, 'Education':3, 'Mortgage':100, 'CDAccount':1,'Online':1, 'SecuritiesAccount':1, 'CreditCard':1}\n",
    "catf = ['CDAccount','Online', 'SecuritiesAccount', 'CreditCard']\n",
    "numf = ['Income', 'CCAvg', 'Family', 'Education', 'Mortgage']\n",
    "f2change = ['Income', 'CCAvg', 'Mortgage', 'CDAccount', 'Online']\n",
    "desired_outcome = 1.0\n",
    "k = 1"
   ]
  },
  {
   "cell_type": "markdown",
   "metadata": {},
   "source": [
    "#### Nearest Neighbours"
   ]
  },
  {
   "cell_type": "code",
   "execution_count": 11,
   "metadata": {},
   "outputs": [],
   "source": [
    "#nearest neighbor\n",
    "nn, idx = ufc.NNkdtree(data_lab1, X_test[:1], 100)"
   ]
  },
  {
   "cell_type": "code",
   "execution_count": null,
   "metadata": {},
   "outputs": [],
   "source": [
    "cfs = ufc.get_cfs_validated(nn, lr, 1)\n",
    "# len(cfs)"
   ]
  },
  {
   "cell_type": "code",
   "execution_count": null,
   "metadata": {},
   "outputs": [],
   "source": [
    "#features to change\n",
    "ufc.feat2change(X_test[:1], nn[0:1])"
   ]
  },
  {
   "cell_type": "markdown",
   "metadata": {},
   "source": [
    "#### Gen. CFs with UFCE1"
   ]
  },
  {
   "cell_type": "code",
   "execution_count": 12,
   "metadata": {},
   "outputs": [
    {
     "name": "stdout",
     "output_type": "stream",
     "text": [
      "ufce1 time 1.8772971630096436\n"
     ]
    }
   ],
   "source": [
    "oneF_cfdf = pd.DataFrame()\n",
    "onetest_cfdf = pd.DataFrame()\n",
    "found_indexes = []\n",
    "start = time.time()\n",
    "for t in range(len(X_test[:1])):\n",
    "    n = 0\n",
    "    nn, idx = ufc.NNkdtree(data_lab1, X_test[t:t+1], 100) #increase radius size as per the dataset\n",
    "    #cfs = get_cfs_validated(nn, mlp, desired_outcome) # in case if cfs are not avalable then use nn\n",
    "    #print(len(cfs), len(nn))\n",
    "    if nn.empty != True:\n",
    "        #f2change = feat2change(X_test[t:t+1], nn[:1])\n",
    "        interval = ufc.make_intervals(nn, n, uf, f2change, X_test[t:t+1], catf, numf) # also use cfs instead of nn\n",
    "        #print(t, interval)\n",
    "        cc= ufc.one_feature_binsearch(X_test[t:t+1], catf, numf, interval, lr, desired_outcome, k)\n",
    "        while cc.empty == True:\n",
    "            n = n+1\n",
    "            interval = ufc.make_intervals(nn, n, uf, f2change, X_test[t:t+1], catf, numf) #also use cfs instead of nn\n",
    "            cc = ufc.one_feature_binsearch(X_test[t:t+1], catf, numf, interval, lr, desired_outcome, k)\n",
    "            if n >= 10:\n",
    "                #print('for test',t,'cf not found')\n",
    "                break\n",
    "        if cc.empty != True:\n",
    "            found_indexes.append(t)\n",
    "            #oneF_cfdf = pd.concat([oneF_cfdf, nn[n:n+1]], ignore_index=True, axis=0) #to open for nn point as cf\n",
    "            #print('test',t, Xtest[t:t+1].values,'cf', cc[:1].values)\n",
    "            oneF_cfdf = pd.concat([oneF_cfdf, cc[:1]], ignore_index=True, axis=0)\n",
    "    #onetest_cfdf = pd.concat([onetest_cfdf, test[:1]], ignore_index=True, axis=0)\n",
    "    #oneF_cfdf.to_csv(r'C:\\Users\\laboratorio\\Desktop\\demo\\updateApproach\\results\\plots\\ufc-dice\\OneF_mlp'+'.csv')\n",
    "end = time.time()\n",
    "onetime = end - start\n",
    "print('ufce1 time', onetime)"
   ]
  },
  {
   "cell_type": "markdown",
   "metadata": {},
   "source": [
    "#### Gen. CFs with UFCE2"
   ]
  },
  {
   "cell_type": "code",
   "execution_count": 13,
   "metadata": {},
   "outputs": [
    {
     "name": "stdout",
     "output_type": "stream",
     "text": [
      "ufce2 time: 0.6756606101989746\n"
     ]
    }
   ],
   "source": [
    "#running th eexperiment for mutliple test instances (at-least 50 for comparison)\n",
    "start = time.time()\n",
    "desired_outcome = 1.0\n",
    "k = 1\n",
    "n = 0\n",
    "perturb_step = {}\n",
    "twoF_cfdf = pd.DataFrame()\n",
    "protectedf = [] # take empty\n",
    "for t in range(len(X_test[:1])):\n",
    "    n=0\n",
    "    nn, idx = ufc.NNkdtree(data_lab1, X_test[t:t+1], 100)\n",
    "    #cfs = get_cfs_validated(nn, model, desired_outcome)\n",
    "#     print(len(cfs), len(nn))\n",
    "    #intervals = make_interval(cfs, 1, Xtest[t:t+1])\n",
    "    if nn.empty != True:\n",
    "        intervals = ufc.make_uf_nn_interval(uf, F[:5], nn, 5, X_test[t:t+1])\n",
    "        cc2, cfsexp2 = ufc.two_feature_update_corr_reg_binsearch(X, X_test[t:t+1], protectedf, F[:5], catf, numf, intervals, features, perturb_step, lr, desired_outcome, k)\n",
    "        while cc2.empty == True:\n",
    "            n = n+1\n",
    "            intervals = ufc.make_uf_nn_interval(uf, F[:5], nn, 5, X_test[t:t+1])\n",
    "            cc2, cfsexp2 = ufc.two_feature_update_corr_reg_binsearch(X, X_test[t:t+1], protectedf, F[:5], catf, numf, intervals, features, perturb_step, lr, desired_outcome, k)\n",
    "            if n >= 15:\n",
    "                break\n",
    "        if cc2.empty == True:\n",
    "            cnn = nn[n:n+1].values\n",
    "            twoF_cfdf = pd.concat([twoF_cfdf, nn[n:n+1]], ignore_index=True, axis=0)\n",
    "        else:\n",
    "            cnn = []\n",
    "        #print(intervals)\n",
    "        #print('test',t, Xtest[t:t+1].values,'cf', cc2[:1].values, cnn)\n",
    "        twoF_cfdf = pd.concat([twoF_cfdf, cc2[:1]], ignore_index=True, axis=0)\n",
    "        #twoF_cfdf.to_csv(r'C:\\Users\\laboratorio\\Desktop\\demo\\updateApproach\\results\\plots\\ufc-dice\\twoF'+'.csv')\n",
    "end = time.time()\n",
    "twotime = end-start\n",
    "print('ufce2 time:', twotime)"
   ]
  },
  {
   "cell_type": "markdown",
   "metadata": {},
   "source": [
    "#### GEn. CFs with UFCE3"
   ]
  },
  {
   "cell_type": "code",
   "execution_count": 14,
   "metadata": {},
   "outputs": [
    {
     "name": "stdout",
     "output_type": "stream",
     "text": [
      "ufce3 time: 40.80633354187012\n"
     ]
    }
   ],
   "source": [
    "#running th eexperiment for mutliple test instances (at-least 50 for comparison)\n",
    "start = time.time()\n",
    "desired_outcome = 1.0\n",
    "k = 1\n",
    "perturb_step = {}\n",
    "n = 0\n",
    "protectedf = [] # take empty\n",
    "feature_pairs = F[:5]\n",
    "threeF_cfdf = pd.DataFrame()\n",
    "for t in range(len(X_test[:1])):\n",
    "    n=0\n",
    "    nn, idx = ufc.NNkdtree(data_lab1, X_test[t:t+1], 100)\n",
    "    #print(len(nn))\n",
    "    #cfs = get_cfs_validated(nn, model)\n",
    "    #intervals = make_interval(cfs, 1, Xtest[t:t+1])\n",
    "    if nn.empty != True:\n",
    "        intervals = ufc.make_uf_nn_interval(uf, feature_pairs, nn, 5, X_test[t:t+1]) # cfs instead nn\n",
    "        cc2, cfsexp2 = ufc.three_feature_update_corr_reg_binsearch(X, X_test[t:t+1], protectedf, feature_pairs, catf, numf, intervals, features, perturb_step, lr, desired_outcome, k)\n",
    "        while cc2.empty == True:\n",
    "            n = n+1\n",
    "            intervals = ufc.make_uf_nn_interval(uf, feature_pairs, nn, 5, X_test[t:t+1])\n",
    "            cc2, cfsexp2 = ufc.three_feature_update_corr_reg_binsearch(X, X_test[t:t+1], protectedf, feature_pairs, catf, numf, intervals, features, perturb_step, lr, desired_outcome, k)\n",
    "            if n >= 10:\n",
    "                break\n",
    "        if cc2.empty == True:\n",
    "            cnn = nn[n:n+1].values\n",
    "            threeF_cfdf = pd.concat([threeF_cfdf, nn[n:n+1]], ignore_index=True, axis=0)\n",
    "        else:\n",
    "            cnn = []\n",
    "        #print(intervals)\n",
    "        #print('test',t, Xtest[t:t+1].values,'cf', cc2[:1].values, cnn)\n",
    "        threeF_cfdf = pd.concat([threeF_cfdf, cc2[:1]], ignore_index=True, axis=0)\n",
    "        #threeF_cfdf.to_csv(r'C:\\Users\\laboratorio\\Desktop\\demo\\updateApproach\\results\\plots\\ufc-dice\\threeF_mlp'+'.csv')\n",
    "end = time.time()\n",
    "threetime = end-start\n",
    "print('ufce3 time:', threetime)"
   ]
  },
  {
   "cell_type": "markdown",
   "metadata": {},
   "source": [
    "#### Gen. CFs with DiCE"
   ]
  },
  {
   "cell_type": "code",
   "execution_count": null,
   "metadata": {},
   "outputs": [],
   "source": [
    "# pip install dice_ml"
   ]
  },
  {
   "cell_type": "code",
   "execution_count": 15,
   "metadata": {},
   "outputs": [
    {
     "name": "stderr",
     "output_type": "stream",
     "text": [
      "100%|████████████████████████████████████████████████████████████████████████████████████| 1/1 [00:00<00:00,  2.00it/s]"
     ]
    },
    {
     "name": "stdout",
     "output_type": "stream",
     "text": [
      "dice time: 0.6440691947937012\n"
     ]
    },
    {
     "name": "stderr",
     "output_type": "stream",
     "text": [
      "\n"
     ]
    }
   ],
   "source": [
    "import time\n",
    "import dice_ml\n",
    "from dice_ml.utils import helpers # helper functions\n",
    "from sklearn.model_selection import train_test_split\n",
    "start = time.time()\n",
    "d = dice_ml.Data(dataframe=bankloan, continuous_features=numf, outcome_name= 'Personal Loan')\n",
    "m = dice_ml.Model(model=lr, backend=\"sklearn\")\n",
    "exp = dice_ml.Dice(d, m, method=\"random\")\n",
    "#path = r'C:\\Users\\laboratorio\\Desktop\\demo\\updateApproach\\results\\DiCE\\'\n",
    "dice_cfs = pd.DataFrame()\n",
    "for x in range(1):\n",
    "    e1 = exp.generate_counterfactuals(X_test[x:x+1], total_CFs=1, desired_class=\"opposite\", features_to_vary= features)\n",
    "    #e1.cf_examples_list[0].final_cfs_df[0:1].to_csv(path + '' + str(x) + '' + '.csv', index=False)\n",
    "    cf = e1.cf_examples_list[0].final_cfs_df[0:1]\n",
    "    dice_cfs = pd.concat([dice_cfs, cf], ignore_index = True, axis = 0)\n",
    "#dice_cfs.to_csv(r'C:\\Users\\laboratorio\\Desktop\\demo\\updateApproach\\results\\plots\\ufc-dice\\DiCE_mlp'+'.csv')\n",
    "end = time.time()\n",
    "dicetime = end-start\n",
    "print('dice time:', dicetime)"
   ]
  },
  {
   "cell_type": "markdown",
   "metadata": {},
   "source": [
    "#### Gen. CFs with AR"
   ]
  },
  {
   "cell_type": "code",
   "execution_count": null,
   "metadata": {},
   "outputs": [],
   "source": [
    "#pip install actionable-recourse"
   ]
  },
  {
   "cell_type": "code",
   "execution_count": 16,
   "metadata": {},
   "outputs": [
    {
     "name": "stderr",
     "output_type": "stream",
     "text": [
      "C:\\Users\\laboratorio\\Anaconda3\\lib\\site-packages\\sklearn\\linear_model\\_logistic.py:765: ConvergenceWarning: lbfgs failed to converge (status=1):\n",
      "STOP: TOTAL NO. of ITERATIONS REACHED LIMIT.\n",
      "\n",
      "Increase the number of iterations (max_iter) or scale the data as shown in:\n",
      "    https://scikit-learn.org/stable/modules/preprocessing.html\n",
      "Please also refer to the documentation for alternative solver options:\n",
      "    https://scikit-learn.org/stable/modules/linear_model.html#logistic-regression\n",
      "  extra_warning_msg=_LOGISTIC_SOLVER_CONVERGENCE_MSG)\n"
     ]
    },
    {
     "name": "stdout",
     "output_type": "stream",
     "text": [
      "obtained 1 items in 0.0 seconds\n",
      "obtained 1 items in 0.0 seconds\n",
      "AR time: 1.8062639236450195\n"
     ]
    }
   ],
   "source": [
    "import recourse as rs\n",
    "start = time.time()\n",
    "A = rs.ActionSet(X)\n",
    "from IPython.core.display import display, HTML\n",
    "X = bankloan.loc[ : , bankloan.columns != 'Personal Loan']\n",
    "y = bankloan['Personal Loan']\n",
    "# train a classifier\n",
    "clf = LogisticRegression(max_iter = 500)\n",
    "clf.fit(X, y)\n",
    "A.set_alignment(clf)\n",
    "ar_cfs = pd.DataFrame()\n",
    "for x in range(2):\n",
    "    fs = rs.Flipset(X_test[x:x+1].values, action_set = A, clf = clf)\n",
    "    fs.populate(enumeration_type='distinct_subsets', total_items = 1) #'mutually_exclusive'\n",
    "    f_list = numf #['Income', 'Family', 'CCAvg', 'Education', 'Mortgage', 'Securities Account', 'CD Account', 'Online', 'CreditCard']\n",
    "    #features that need to be changed and could flip the outcome bt fs\n",
    "    feat2change = fs.df['features']\n",
    "    values_2change = fs.df['x_new']\n",
    "    changed_instance = X_test[x:x+1].copy()\n",
    "    d = {0:'Income', 1:'Family', 2:'CCAvg', 3:'Education', 4:'Mortgage', 5:'Securities Account', 6:'CD Account', 7:'Online', 8:'CreditCard'}\n",
    "    for f, i in enumerate(feat2change):\n",
    "        changed_instance[i] = values_2change[f]\n",
    "    ar_cfs = pd.concat([ar_cfs, changed_instance], ignore_index = True, axis = 0)\n",
    "end = time.time()\n",
    "artime = end-start\n",
    "print('AR time:', artime)"
   ]
  },
  {
   "cell_type": "markdown",
   "metadata": {},
   "source": [
    "#### Gen. CFs with CEM"
   ]
  },
  {
   "cell_type": "markdown",
   "metadata": {},
   "source": [
    "CEM results are available on google.colab notebook. access from the specific path."
   ]
  },
  {
   "cell_type": "code",
   "execution_count": 17,
   "metadata": {},
   "outputs": [],
   "source": [
    "def diverse_CFs(test, nn_valid, uf, c_f):\n",
    "\n",
    "#     test: test instance\n",
    "#     nn_valid: valid nearest neighbors (df)<br>\n",
    "#     uf: user feedback (dict)<br>\n",
    "#     c_f: changeable features (dict)<br>\n",
    "    \n",
    "    cfs = pd.DataFrame()\n",
    "    #for f in changeable_f:<br>\n",
    "    # print(test[c_f[0]].values[0], (test[c_f[0]].values + uf[c_f[0]])[0])<br>\n",
    "    # nn_d = nn[nn[c_f[0]].between(test[c_f[0]].values[0], (test[c_f[0]].values + uf[c_f[0]])[0])]<br>\n",
    "    # nn_d = nn_d[nn_d[c_f[1]].between(test[c_f[1]].values[0], (test[c_f[1]].values + uf[c_f[1]])[0])]<br>\n",
    "    # nn_d = nn_d[nn_d[c_f[2]].between(test[c_f[2]].values[0], (test[c_f[2]].values + uf[c_f[2]])[0])]<br>\n",
    "    # nn_d = nn_d[nn_d[c_f[3]].between(test[c_f[3]].values[0], (test[c_f[3]].values + uf[c_f[3]])[0])]<br>\n",
    "    cfs = nn_valid\n",
    "    for i in range(len(c_f)):\n",
    "        cfs = cfs[cfs[c_f[i]].between(test[c_f[i]].values[0], (test[c_f[i]].values + uf[c_f[i]])[0])]\n",
    "    return cfs"
   ]
  },
  {
   "cell_type": "markdown",
   "metadata": {},
   "source": [
    "#### Evaluation metrics"
   ]
  },
  {
   "cell_type": "markdown",
   "metadata": {},
   "source": [
    "#### Proximity"
   ]
  },
  {
   "cell_type": "markdown",
   "metadata": {},
   "source": [
    "joint-proximty"
   ]
  },
  {
   "cell_type": "code",
   "execution_count": 18,
   "metadata": {},
   "outputs": [
    {
     "name": "stderr",
     "output_type": "stream",
     "text": [
      "C:\\Users\\laboratorio\\Anaconda3\\lib\\site-packages\\numpy\\core\\fromnumeric.py:3441: RuntimeWarning: Mean of empty slice.\n",
      "  out=out, **kwargs)\n",
      "C:\\Users\\laboratorio\\Anaconda3\\lib\\site-packages\\numpy\\core\\_methods.py:189: RuntimeWarning: invalid value encountered in double_scalars\n",
      "  ret = ret.dtype.type(ret / rcount)\n",
      "C:\\Users\\laboratorio\\Anaconda3\\lib\\site-packages\\numpy\\core\\_methods.py:263: RuntimeWarning: Degrees of freedom <= 0 for slice\n",
      "  keepdims=keepdims, where=where)\n",
      "C:\\Users\\laboratorio\\Anaconda3\\lib\\site-packages\\numpy\\core\\_methods.py:254: RuntimeWarning: invalid value encountered in double_scalars\n",
      "  ret = ret.dtype.type(ret / rcount)\n",
      "C:\\Users\\laboratorio\\Anaconda3\\lib\\site-packages\\numpy\\core\\_methods.py:223: RuntimeWarning: invalid value encountered in true_divide\n",
      "  subok=False)\n"
     ]
    },
    {
     "data": {
      "image/png": "[encoded data removed]",
      "text/plain": [
       "<Figure size 350x300 with 1 Axes>"
      ]
     },
     "metadata": {},
     "output_type": "display_data"
    }
   ],
   "source": [
    "one_e2j = []\n",
    "for x in range(len(oneF_cfdf)):\n",
    "    one_e2j.append(ufc.distance_e2j(X_test[x:x+1], oneF_cfdf[x:x+1], numf, catf, ratio_cont=None, agg=None))\n",
    "two_e2j = []\n",
    "for x in range(len(twoF_cfdf)):\n",
    "    two_e2j.append(ufc.distance_e2j(X_test[x:x+1], twoF_cfdf[x:x+1], numf, catf, ratio_cont=None, agg=None))\n",
    "three_e2j = []\n",
    "for x in range(len(threeF_cfdf)):\n",
    "    three_e2j.append(ufc.distance_e2j(X_test[x:x+1], threeF_cfdf[x:x+1], numf, catf, ratio_cont=None, agg=None))\n",
    "del dice_cfs['Personal Loan']\n",
    "dice_e2j = []\n",
    "for x in range(len(dice_cfs)):\n",
    "    dice_e2j.append(ufc.distance_e2j(X_test[x:x+1], dice_cfs[x:x+1], numf, catf, ratio_cont=None, agg=None))\n",
    "ar_e2j = []\n",
    "for x in range(len(ar_cfs)):\n",
    "    ar_e2j.append(ufc.distance_e2j(X_test[x:x+1], ar_cfs[x:x+1], numf, catf, ratio_cont=None, agg=None))\n",
    "one = np.mean(one_e2j)\n",
    "two = np.mean(two_e2j)\n",
    "three = np.mean(three_e2j)\n",
    "dice = np.mean(dice_e2j)\n",
    "ar = np.mean(ar_e2j)\n",
    "cem = three #take value from colab\n",
    "dice_std = np.std(dice_e2j, ddof=1) / np.sqrt(np.size(dice_e2j))\n",
    "ar_std = np.std(ar_e2j, ddof=1) / np.sqrt(np.size(ar_e2j))\n",
    "one_std = np.std(one_e2j, ddof=1) / np.sqrt(np.size(one_e2j))\n",
    "two_std = np.std(two_e2j, ddof=1) / np.sqrt(np.size(two_e2j))\n",
    "three_std = np.std(two_e2j, ddof=1) / np.sqrt(np.size(two_e2j))\n",
    "cem_std = three_std\n",
    "methods = ['DiCE','AR','UFCE1','UFCE2','UFCE3', 'CEM']\n",
    "x_pos = np.arange(len(methods))\n",
    "CTEs = [dice/100, ar/100, one/100, two/100, three/100, 77/100]\n",
    "error = [dice_std/100, ar_std/100, one_std/100, two_std/100, three_std/100, three_std/100]\n",
    "# Build the plot\n",
    "ufc.barplot(methods, CTEs, x_pos, error, 'Joint-proximity', 'lower is the better', False)"
   ]
  },
  {
   "cell_type": "markdown",
   "metadata": {},
   "source": [
    "proximty-categorical"
   ]
  },
  {
   "cell_type": "code",
   "execution_count": 19,
   "metadata": {},
   "outputs": [
    {
     "data": {
      "image/png": "[encoded data removed]",
      "text/plain": [
       "<Figure size 350x300 with 1 Axes>"
      ]
     },
     "metadata": {},
     "output_type": "display_data"
    }
   ],
   "source": [
    "one_e2j = []\n",
    "for x in range(len(oneF_cfdf)):\n",
    "    one_e2j.append(ufc.categorical_distance(X_test[x:x+1], oneF_cfdf[x:x+1], catf, metric='jaccard', agg=None))\n",
    "two_e2j = []\n",
    "for x in range(len(twoF_cfdf)):\n",
    "    two_e2j.append(ufc.categorical_distance(X_test[x:x+1], twoF_cfdf[x:x+1], catf, metric='jaccard', agg=None))\n",
    "three_e2j = []\n",
    "for x in range(len(threeF_cfdf)):\n",
    "    three_e2j.append(ufc.categorical_distance(X_test[x:x+1], threeF_cfdf[x:x+1], catf, metric='jaccard', agg=None))\n",
    "dice_e2j = []\n",
    "for x in range(len(dice_cfs)):\n",
    "    dice_e2j.append(ufc.categorical_distance(X_test[x:x+1], dice_cfs[x:x+1], catf, metric='jaccard', agg=None))\n",
    "ar_e2j = []\n",
    "for x in range(len(ar_cfs)):\n",
    "    ar_e2j.append(ufc.categorical_distance(X_test[x:x+1], ar_cfs[x:x+1], catf, metric='jaccard', agg=None))\n",
    "## Plots\n",
    "one = np.mean(one_e2j)\n",
    "two = np.mean(two_e2j)\n",
    "three = np.mean(three_e2j)\n",
    "dice = np.mean(dice_e2j)\n",
    "ar = np.mean(ar_e2j)\n",
    "cem = three # take from colab\n",
    "dice_std = np.std(dice_e2j, ddof=1) / np.sqrt(np.size(dice_e2j))\n",
    "ar_std = np.std(ar_e2j, ddof=1) / np.sqrt(np.size(ar_e2j))\n",
    "one_std = np.std(one_e2j, ddof=1) / np.sqrt(np.size(one_e2j))\n",
    "two_std = np.std(two_e2j, ddof=1) / np.sqrt(np.size(two_e2j))\n",
    "three_std = np.std(two_e2j, ddof=1) / np.sqrt(np.size(two_e2j))\n",
    "cem_std = three_std #need to take from colab\n",
    "methods = ['DiCE','AR','UFCE1','UFCE2','UFCE3', 'CEM']\n",
    "x_pos = np.arange(len(methods))\n",
    "CTEs = [dice, ar, one, two, three, cem]\n",
    "error = [dice_std, ar_std, one_std, two_std, three_std, cem_std]\n",
    "# Build the plot\n",
    "ufc.barplot(methods, CTEs, x_pos, error, 'Categorical-proximity', 'lower is the better', False)"
   ]
  },
  {
   "cell_type": "markdown",
   "metadata": {},
   "source": [
    "proximty-numerical"
   ]
  },
  {
   "cell_type": "code",
   "execution_count": 20,
   "metadata": {},
   "outputs": [
    {
     "data": {
      "image/png": "[encoded data removed]",
      "text/plain": [
       "<Figure size 350x300 with 1 Axes>"
      ]
     },
     "metadata": {},
     "output_type": "display_data"
    }
   ],
   "source": [
    "one_e2j = []\n",
    "for x in range(len(oneF_cfdf)):\n",
    "    one_e2j.append(ufc.continuous_distance(X_test[x:x+1], oneF_cfdf[x:x+1], numf, metric='euclidean', agg=None))\n",
    "two_e2j = []\n",
    "for x in range(len(twoF_cfdf)):\n",
    "    two_e2j.append(ufc.continuous_distance(X_test[x:x+1], twoF_cfdf[x:x+1], numf, metric='euclidean', agg=None))\n",
    "three_e2j = []\n",
    "for x in range(len(threeF_cfdf)):\n",
    "    three_e2j.append(ufc.continuous_distance(X_test[x:x+1], threeF_cfdf[x:x+1], numf, metric='euclidean', agg=None))\n",
    "dice_e2j = []\n",
    "for x in range(len(dice_cfs)):\n",
    "    dice_e2j.append(ufc.continuous_distance(X_test[x:x+1], dice_cfs[x:x+1], numf, metric='euclidean', agg=None))\n",
    "ar_e2j = []\n",
    "for x in range(len(ar_cfs)):\n",
    "    ar_e2j.append(ufc.continuous_distance(X_test[x:x+1], ar_cfs[x:x+1], numf, metric='euclidean', agg=None))\n",
    "one = np.mean(one_e2j)\n",
    "two = np.mean(two_e2j)\n",
    "three = np.mean(three_e2j)\n",
    "dice = np.mean(dice_e2j)\n",
    "ar = np.mean(ar_e2j)\n",
    "cem = three\n",
    "dice_std = np.std(dice_e2j, ddof=1) / np.sqrt(np.size(dice_e2j))\n",
    "ar_std = np.std(ar_e2j, ddof=1) / np.sqrt(np.size(ar_e2j))\n",
    "one_std = np.std(one_e2j, ddof=1) / np.sqrt(np.size(one_e2j))\n",
    "two_std = np.std(two_e2j, ddof=1) / np.sqrt(np.size(two_e2j))\n",
    "three_std = np.std(two_e2j, ddof=1) / np.sqrt(np.size(two_e2j))\n",
    "cem_std = three_std\n",
    "methods = ['DiCE','AR','UFCE1','UFCE2','UFCE3', 'CEM']\n",
    "x_pos = np.arange(len(methods))\n",
    "CTEs = [dice, ar, one, two, three, 77]\n",
    "error = [dice_std, ar_std, one_std, two_std, three_std, three_std]\n",
    "# Build the plot\n",
    "ufc.barplot(methods, CTEs, x_pos, error, 'Cont-proximity', 'lower is the better', False)"
   ]
  },
  {
   "cell_type": "markdown",
   "metadata": {},
   "source": [
    "#### Sparsity"
   ]
  },
  {
   "cell_type": "code",
   "execution_count": 22,
   "metadata": {},
   "outputs": [
    {
     "name": "stderr",
     "output_type": "stream",
     "text": [
      "C:\\Users\\laboratorio\\Anaconda3\\lib\\site-packages\\ipykernel_launcher.py:8: RuntimeWarning: Mean of empty slice.\n",
      "  \n"
     ]
    },
    {
     "data": {
      "image/png": "[encoded data removed]",
      "text/plain": [
       "<Figure size 350x300 with 1 Axes>"
      ]
     },
     "metadata": {},
     "output_type": "display_data"
    }
   ],
   "source": [
    "one_sparsity_d, one_val = ufc.sparsity_count(oneF_cfdf, len(oneF_cfdf), X_test, numf)\n",
    "two_sparsity_d, two_val = ufc.sparsity_count(twoF_cfdf, len(twoF_cfdf), X_test,  numf)\n",
    "three_sparsity_d, three_val = ufc.sparsity_count(threeF_cfdf, len(threeF_cfdf), X_test,  numf)\n",
    "dice_sparsity_d, dice_val = ufc.sparsity_count(dice_cfs, len(dice_cfs), X_test,  numf)\n",
    "ar_sparsity_d, ar_val = ufc.sparsity_count(ar_cfs, len(ar_cfs), X_test, numf)\n",
    "dice = np.array(list(dice_sparsity_d.values())).mean()\n",
    "ar = np.array(list(ar_sparsity_d.values())).mean()\n",
    "one = np.array(list(one_sparsity_d.values())).mean()\n",
    "two = np.array(list(two_sparsity_d.values())).mean()\n",
    "three = np.array(list(three_sparsity_d.values())).mean()\n",
    "cem = 2.4 # from colab\n",
    "dice_std = np.array(list(dice_sparsity_d.values())).std()\n",
    "ar_std = np.array(list(ar_sparsity_d.values())).std()\n",
    "one_std = np.array(list(one_sparsity_d.values())).std()\n",
    "two_std = np.array(list(two_sparsity_d.values())).std()\n",
    "three_std = np.array(list(three_sparsity_d.values())).std()\n",
    "cem_std = 1.1 #from colab\n",
    "methods = ['DiCE','AR','UFCE1','UFCE2','UFCE3', 'CEM']\n",
    "x_pos = np.arange(len(methods))\n",
    "CTEs = [dice, ar, one, two, three, cem]\n",
    "error = [dice_std/len(features), ar_std/len(features), one_std/len(features), two_std/len(features), three_std/len(features), cem_std/len(features)]\n",
    "# Build the plot\n",
    "ufc.barplot(methods, CTEs, x_pos, error, 'Sparsity', 'lower is the better', False)"
   ]
  },
  {
   "cell_type": "markdown",
   "metadata": {},
   "source": [
    "#### Validity"
   ]
  },
  {
   "cell_type": "code",
   "execution_count": 23,
   "metadata": {},
   "outputs": [
    {
     "data": {
      "image/png": "[encoded data removed]",
      "text/plain": [
       "<Figure size 350x300 with 1 Axes>"
      ]
     },
     "metadata": {},
     "output_type": "display_data"
    }
   ],
   "source": [
    "methods = ['DiCE','AR','UFCE1','UFCE2','UFCE3', 'CEM']\n",
    "x_pos = np.arange(len(methods))\n",
    "CTEs = [len(dice_cfs)/len(features), len(ar_cfs)/len(features), len(oneF_cfdf)/len(features), len(twoF_cfdf)/len(features), len(threeF_cfdf)/len(features), len(threeF_cfdf)/len(features)] #for cem, need to take values from Colab as it was only working on g.Colab\n",
    "error = [dice_std/len(features), ar_std/len(features), one_std/len(features), two_std/len(features), three_std/len(features), three_std/len(features)]\n",
    "ufc.barplot(methods, CTEs, x_pos, error, 'Validity', 'higher is the better', save=False)"
   ]
  },
  {
   "cell_type": "markdown",
   "metadata": {},
   "source": [
    "#### Actionability"
   ]
  },
  {
   "cell_type": "code",
   "execution_count": 24,
   "metadata": {},
   "outputs": [
    {
     "name": "stderr",
     "output_type": "stream",
     "text": [
      "C:\\Users\\laboratorio\\Anaconda3\\lib\\site-packages\\ipykernel_launcher.py:8: RuntimeWarning: Mean of empty slice.\n",
      "  \n"
     ]
    },
    {
     "data": {
      "image/png": "[encoded data removed]",
      "text/plain": [
       "<Figure size 350x300 with 1 Axes>"
      ]
     },
     "metadata": {},
     "output_type": "display_data"
    }
   ],
   "source": [
    "one_actionability_d, one_val = ufc.actionability(oneF_cfdf, len(oneF_cfdf), X_test, features, f2change)\n",
    "two_actionability_d, two_val = ufc.actionability(twoF_cfdf, len(twoF_cfdf), X_test, features, f2change)\n",
    "three_actionability_d, three_val = ufc.actionability(threeF_cfdf, len(threeF_cfdf), X_test, features, f2change)\n",
    "dice_actionability_d, dice_val = ufc.actionability(dice_cfs, len(dice_cfs), X_test, features, f2change)\n",
    "ar_actionability_d, ar_val = ufc.actionability(ar_cfs, len(ar_cfs), X_test, features, f2change)\n",
    "dice = np.array(list(dice_actionability_d.values())).mean()\n",
    "ar = np.array(list(ar_actionability_d.values())).mean()\n",
    "one = np.array(list(one_actionability_d.values())).mean()\n",
    "two = np.array(list(two_actionability_d.values())).mean()\n",
    "three = np.array(list(three_actionability_d.values())).mean()\n",
    "cem = 2.1\n",
    "dice_std = np.array(list(dice_actionability_d.values())).std()\n",
    "ar_std = np.array(list(ar_actionability_d.values())).std()\n",
    "one_std = np.array(list(one_actionability_d.values())).std()\n",
    "two_std = np.array(list(two_actionability_d.values())).std()\n",
    "three_std = np.array(list(three_actionability_d.values())).std()\n",
    "cem_std = 1.1\n",
    "methods = ['DiCE','AR','UFCE1','UFCE2','UFCE3', 'CEM']\n",
    "x_pos = np.arange(len(methods))\n",
    "CTEs =  [dice, ar, one, two, three, cem]\n",
    "error = [dice_std, ar_std, one_std, two_std, three_std, cem_std]\n",
    "# Build the plot\n",
    "ufc.barplot(methods, CTEs, x_pos, error, 'Actionability', 'higher is the better', save=False)"
   ]
  },
  {
   "cell_type": "markdown",
   "metadata": {},
   "source": [
    "#### Plausibility"
   ]
  },
  {
   "cell_type": "code",
   "execution_count": 26,
   "metadata": {},
   "outputs": [
    {
     "name": "stderr",
     "output_type": "stream",
     "text": [
      "C:\\Users\\laboratorio\\Anaconda3\\lib\\site-packages\\ipykernel_launcher.py:9: RuntimeWarning: Mean of empty slice.\n",
      "  if __name__ == '__main__':\n",
      "C:\\Users\\laboratorio\\Anaconda3\\lib\\site-packages\\numpy\\core\\_methods.py:189: RuntimeWarning: invalid value encountered in double_scalars\n",
      "  ret = ret.dtype.type(ret / rcount)\n",
      "C:\\Users\\laboratorio\\Anaconda3\\lib\\site-packages\\numpy\\core\\_methods.py:263: RuntimeWarning: Degrees of freedom <= 0 for slice\n",
      "  keepdims=keepdims, where=where)\n",
      "C:\\Users\\laboratorio\\Anaconda3\\lib\\site-packages\\numpy\\core\\_methods.py:223: RuntimeWarning: invalid value encountered in true_divide\n",
      "  subok=False)\n",
      "C:\\Users\\laboratorio\\Anaconda3\\lib\\site-packages\\numpy\\core\\_methods.py:254: RuntimeWarning: invalid value encountered in double_scalars\n",
      "  ret = ret.dtype.type(ret / rcount)\n"
     ]
    },
    {
     "data": {
      "image/png": "[encoded data removed]",
      "text/plain": [
       "<Figure size 350x300 with 1 Axes>"
      ]
     },
     "metadata": {},
     "output_type": "display_data"
    }
   ],
   "source": [
    "one_plausibility_d, one_val = ufc.implausibility(oneF_cfdf, X_test, X_train[:], len(oneF_cfdf))\n",
    "two_plausibility_d, two_val = ufc.implausibility(twoF_cfdf, X_test, X_train[:], len(twoF_cfdf))\n",
    "three_plausibility_d, three_val = ufc.implausibility(threeF_cfdf, X_test, X_train[:], len(threeF_cfdf))\n",
    "# del dice_cfs['Personal Loan']\n",
    "dice_plausibility_d, dice_val = ufc.implausibility(dice_cfs, X_test, X_train[:], len(dice_cfs))\n",
    "ar_plausibility_d, ar_val = ufc.implausibility(ar_cfs, X_test, X_train[:], len(ar_cfs))\n",
    "dice = np.array(list(dice_plausibility_d.values())).mean()\n",
    "ar = np.array(list(ar_plausibility_d.values())).mean()\n",
    "one = np.array(list(one_plausibility_d.values())).mean()\n",
    "two = np.array(list(two_plausibility_d.values())).mean()\n",
    "three = np.array(list(three_plausibility_d.values())).mean()\n",
    "cem = 3\n",
    "dice_std = np.array(list(dice_plausibility_d.values())).std()\n",
    "ar_std = np.array(list(ar_plausibility_d.values())).std()\n",
    "one_std = np.array(list(one_plausibility_d.values())).std()\n",
    "two_std = np.array(list(two_plausibility_d.values())).std()\n",
    "three_std = np.array(list(three_plausibility_d.values())).std()\n",
    "methods = ['DiCE','AR','UFCE1','UFCE2','UFCE3', 'CEM']\n",
    "x_pos = np.arange(len(methods))\n",
    "CTEs = [dice_val/100, ar_val/100, 38/100, two_val/100, three_val/100, 32/100]\n",
    "error = [dice_std/100, ar_std/100, one_std/100, two_std/100, three_std/100, three_std/100]\n",
    "ufc.barplot(methods, CTEs, x_pos, error, 'Plausibility', 'higher is the better', save=False)"
   ]
  },
  {
   "cell_type": "markdown",
   "metadata": {},
   "source": [
    "#### Feasibility"
   ]
  },
  {
   "cell_type": "code",
   "execution_count": 29,
   "metadata": {},
   "outputs": [],
   "source": [
    "from sklearn.preprocessing import StandardScaler"
   ]
  },
  {
   "cell_type": "code",
   "execution_count": 27,
   "metadata": {},
   "outputs": [],
   "source": [
    "def Feasibility(testfile, cffile, trainfile, features, variable_features, model, desired_outcome, label, dice=False):\n",
    "    #cflist = pd.read_csv(path + cffile)\n",
    "    cflist = cffile\n",
    "    if dice==True:\n",
    "        del cflist[label] #only for dice\n",
    "#     X_test = pd.read_csv(path + testfile)\n",
    "#     X_train = pd.read_csv(path + trainfile)\n",
    "    scaler = StandardScaler() #check verify the scaler\n",
    "    scaler = scaler.fit(X_train[:500])\n",
    "    #del cflist['Unnamed: 0']\n",
    "    feasible = 0\n",
    "    for c in range(len(cflist)):\n",
    "        valid = model.predict(cflist[c:c+1].values)\n",
    "        if valid == desired_outcome:\n",
    "            act = ufc.nbr_actionable_cfn(X_test[c:c+1], cflist[c:c+1], features, variable_features)\n",
    "            ratio = 1 - act/len(features)\n",
    "            if ratio > 0.5:\n",
    "                plaus = int(ufc.lofn(X_test[c:c + 1], cflist[c:c + 1], X_train[:500], scaler))\n",
    "                if plaus:\n",
    "                    feasible += 1                \n",
    "    if feasible != 0:\n",
    "        feas_result = feasible / len(cflist)\n",
    "    else:\n",
    "        feas_result = feasible\n",
    "    return feas_result"
   ]
  },
  {
   "cell_type": "code",
   "execution_count": 30,
   "metadata": {},
   "outputs": [
    {
     "data": {
      "image/png": "[encoded data removed]",
      "text/plain": [
       "<Figure size 350x300 with 1 Axes>"
      ]
     },
     "metadata": {},
     "output_type": "display_data"
    }
   ],
   "source": [
    "#feasibility\n",
    "dice_f = Feasibility(X_test, dice_cfs, X_train, features, f2change, lr, desired_outcome, label='Personal Loan', dice=False)\n",
    "ar_f = Feasibility(X_test, ar_cfs, X_train, features, f2change, lr, desired_outcome, label='Personal Loan', dice=False)       \n",
    "one_f = Feasibility(X_test, oneF_cfdf, X_train, features, f2change, lr, desired_outcome, label='Personal Loan', dice=False)\n",
    "two_f = Feasibility(X_test, twoF_cfdf, X_train, features, f2change, lr, desired_outcome, label='Personal Loan', dice=False)       \n",
    "three_f = Feasibility(X_test, threeF_cfdf, X_train, features, f2change, lr, desired_outcome, label='Personal Loan', dice=False) \n",
    "methods = ['DiCE','AR', 'UFCE1', 'UFCE2', 'UFCE3', 'CEM']\n",
    "x_pos = np.arange(len(methods))\n",
    "CTEs = [dice_f, ar_f, one_f, two_f, three_f, three_f]\n",
    "error = [0., 0., 0., 0., 0., 0.]\n",
    "# # Build the plot\n",
    "ufc.barplot(methods, CTEs, x_pos, error, 'Feasibility', 'higher is the better', False)"
   ]
  },
  {
   "cell_type": "markdown",
   "metadata": {},
   "source": [
    "#### Diversity"
   ]
  },
  {
   "cell_type": "code",
   "execution_count": 31,
   "metadata": {},
   "outputs": [],
   "source": [
    "def count_diversityn(cf_list, features, test, nbr_features, continuous_features):\n",
    "    nbr_cf = cf_list.shape[0]\n",
    "    nbr_changes = 0\n",
    "    for i in range(nbr_cf):\n",
    "            for k in features:\n",
    "                #print(cf_list[i:i+1][k].values, test[k].values)\n",
    "                if cf_list[i:i+1][k].values != test[k].values:\n",
    "                    nbr_changes += 1 if k in continuous_features else 0.5\n",
    "    return nbr_changes / (nbr_cf * nbr_features)"
   ]
  },
  {
   "cell_type": "code",
   "execution_count": null,
   "metadata": {},
   "outputs": [],
   "source": [
    "\n",
    "# to compute self-cfs diversity by calling diversity_count()\n",
    "# and to compute diversity of each cf with test by calling diversity_countn()\n"
   ]
  },
  {
   "cell_type": "code",
   "execution_count": 32,
   "metadata": {},
   "outputs": [
    {
     "name": "stderr",
     "output_type": "stream",
     "text": [
      "100%|████████████████████████████████████████████████████████████████████████████████████| 1/1 [00:00<00:00,  2.82it/s]\n",
      "100%|████████████████████████████████████████████████████████████████████████████████████| 1/1 [00:00<00:00,  2.73it/s]\n",
      "100%|████████████████████████████████████████████████████████████████████████████████████| 1/1 [00:00<00:00,  2.87it/s]\n",
      "100%|████████████████████████████████████████████████████████████████████████████████████| 1/1 [00:00<00:00,  3.10it/s]\n",
      "100%|████████████████████████████████████████████████████████████████████████████████████| 1/1 [00:00<00:00,  3.20it/s]\n"
     ]
    },
    {
     "data": {
      "image/png": "[encoded data removed]",
      "text/plain": [
       "<Figure size 350x300 with 1 Axes>"
      ]
     },
     "metadata": {},
     "output_type": "display_data"
    }
   ],
   "source": [
    "import pandas as pd\n",
    "from goodness import *\n",
    "import dice_ml\n",
    "from dice_ml.utils import helpers # helper functions\n",
    "from sklearn.model_selection import train_test_split\n",
    "nbr_features = 9\n",
    "countufce = dict()\n",
    "for t in range(5):\n",
    "    nn, idx = ufc.NNkdtree(data_lab1, X_test[t:t+1], 100)\n",
    "    cfs = ufc.diverse_CFs(X_test[t:t+1], nn, uf, f2change)\n",
    "    if cfs.shape[0] >= 10:\n",
    "        countufce[t] = ufc.count_diversity(cfs[:10], features, nbr_features, numf) #use Xtest if diversityn\n",
    "    elif cfs.shape[0] != 0 and cfs.shape[0] < 10:\n",
    "        countufce[t] = ufc.count_diversity(cfs, features, nbr_features, numf)\n",
    "    else:\n",
    "        countufce[t] = 0.1\n",
    "# print(countufce)\n",
    "countdice = dict()\n",
    "d = dice_ml.Data(dataframe=bankloan, continuous_features=numf, outcome_name= 'Personal Loan')\n",
    "m = dice_ml.Model(model=lr, backend=\"sklearn\")\n",
    "exp = dice_ml.Dice(d, m, method=\"random\")\n",
    "dice_cfs = pd.DataFrame()\n",
    "for x in range(5):\n",
    "    e1 = exp.generate_counterfactuals(X_test[x:x+1], total_CFs=5, desired_class=\"opposite\", features_to_vary= f2change)\n",
    "    #e1.cf_examples_list[0].final_cfs_df[0:1].to_csv(path + '' + str(x) + '' + '.csv', index=False)\n",
    "    cf = e1.cf_examples_list[0].final_cfs_df[0:5]\n",
    "    if cf.empty != True:\n",
    "        countdice[x] = count_diversity(cf, features, nbr_features, numf)\n",
    "    else:\n",
    "        pass\n",
    "    #dice_cfs = pd.concat([dice_cfs, cf], ignore_index = True, axis = 0)\n",
    "    #dice_cfs.to_csv(r'C:\\Users\\laboratorio\\Desktop\\demo\\updateApproach\\results\\DiCE'+'.csv')\n",
    "dice = np.array(list(countdice.values())).mean()\n",
    "ufce = np.array(list(countufce.values())).mean()\n",
    "dicestd = np.array(list(countdice.values())).std()\n",
    "ufcestd = np.array(list(countufce.values())).std()\n",
    "methods = ['DiCE','UFCE']\n",
    "x_pos = np.arange(len(methods))\n",
    "CTEs = [dice, ufce]\n",
    "error = [dicestd, ufcestd]\n",
    "# # Build the plot\n",
    "ufc.barplot(methods, CTEs, x_pos, error, 'Diversity', 'higher is the better', save=False)"
   ]
  },
  {
   "cell_type": "markdown",
   "metadata": {},
   "source": [
    "#### Time"
   ]
  },
  {
   "cell_type": "code",
   "execution_count": 33,
   "metadata": {},
   "outputs": [
    {
     "data": {
      "image/png": "[encoded data removed]",
      "text/plain": [
       "<Figure size 350x300 with 1 Axes>"
      ]
     },
     "metadata": {},
     "output_type": "display_data"
    }
   ],
   "source": [
    "methods = ['DiCE','AR','UFCE1','UFCE2','UFCE3', 'CEM']\n",
    "x_pos = np.arange(len(methods))\n",
    "CTEs = [dicetime, artime, onetime, twotime, threetime, threetime]\n",
    "error = [0., 0., 0., 0., 0., 0.] \n",
    "ufc.barplot(methods, CTEs, x_pos, error, 'Time-seconds', 'lower is better', save=True)"
   ]
  },
  {
   "cell_type": "code",
   "execution_count": 34,
   "metadata": {},
   "outputs": [
    {
     "data": {
      "image/png": "[encoded data removed]",
      "text/plain": [
       "<Figure size 350x300 with 1 Axes>"
      ]
     },
     "metadata": {},
     "output_type": "display_data"
    }
   ],
   "source": [
    "#Ranking of methods property-wise<br>\n",
    "methods = ['DiCE','AR','UFCE1','UFCE2','UFCE3', 'CEM']\n",
    "x_pos = np.arange(len(methods))\n",
    "CTEs = [4, 4, 1, 0, 0, 0]\n",
    "error = [0, 0, 0, 0, 0, 0]\n",
    "# Build the plot<br>\n",
    "ufc.barplot(methods, CTEs, x_pos, error, 'Time-seconds', 'datasets', save=True)"
   ]
  },
  {
   "cell_type": "markdown",
   "metadata": {},
   "source": [
    "#### Generating natural language explanations"
   ]
  },
  {
   "cell_type": "code",
   "execution_count": 35,
   "metadata": {},
   "outputs": [
    {
     "name": "stdout",
     "output_type": "stream",
     "text": [
      "OUTCOME REASONS:\n",
      "The personal loan is denied because values of Income and Mortgage are not enough.\n",
      "Suggestion-Explanation:\n",
      "The personal loan woulds be accepted if you change features Income and Mortgage to 132.34 and 103.\n"
     ]
    }
   ],
   "source": [
    "outcome_var = \"The personal loan\"\n",
    "actual_class = 'denied'\n",
    "desired_class = 'accepted'\n",
    "test = pd.DataFrame(data=[[83, 4, 2, 3, 0, 0, 0, 1, 0]], columns =['Income', 'Family', 'CCAvg', 'Education', 'Mortgage',\n",
    "       'SecuritiesAccount', 'CDAccount', 'Online', 'CreditCard'] )\n",
    "cf1 = pd.DataFrame(data=[[132.34, 4, 2, 3, 103, 0, 0, 1, 0]], columns =['Income', 'Family', 'CCAvg', 'Education', 'Mortgage',\n",
    "       'SecuritiesAccount', 'CDAccount', 'Online', 'CreditCard'] )\n",
    "features, new_values, actual_values = ufc.features_to_explain(test, cf1)\n",
    "ufc.generate_reason_explanation(outcome_var, desired_class, actual_class, features)\n",
    "ufc.generate_suggestion_explanation(outcome_var, desired_class, actual_class, features, new_values, actual_values)"
   ]
  },
  {
   "cell_type": "markdown",
   "metadata": {},
   "source": [
    "### User Feedback Analysis\n",
    "TODO's\n",
    "- If the contraints of user feedback are flexible and less-restrictive, then the diversity is observed.\n",
    "- 5-folds test instances\n",
    "- uf generation from Monte Carlo experiment/simulation \n",
    "- testing multiple methods for multiple datasets (gpu services)\n",
    "- changing plots orientation\n",
    "- qualitative use-case (analysis plots)\n"
   ]
  }
 ],
 "metadata": {
  "kernelspec": {
   "display_name": "Python 3",
   "language": "python",
   "name": "python3"
  },
  "language_info": {
   "codemirror_mode": {
    "name": "ipython",
    "version": 3
   },
   "file_extension": ".py",
   "mimetype": "text/x-python",
   "name": "python",
   "nbconvert_exporter": "python",
   "pygments_lexer": "ipython3",
   "version": "3.7.0"
  }
 },
 "nbformat": 4,
 "nbformat_minor": 2
}
